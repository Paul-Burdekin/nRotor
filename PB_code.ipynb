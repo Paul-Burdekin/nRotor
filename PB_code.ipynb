{
 "cells": [
  {
   "cell_type": "code",
   "execution_count": 12,
   "metadata": {
    "collapsed": true
   },
   "outputs": [],
   "source": [
    "import numpy as np\n",
    "import math\n",
    "import matplotlib.pyplot as plt\n",
    "%matplotlib inline"
   ]
  },
  {
   "cell_type": "code",
   "execution_count": 13,
   "metadata": {
    "collapsed": true
   },
   "outputs": [],
   "source": [
    "\"\"\"     ====>     initial parameters     <====     \"\"\"\n",
    "n = 24   #number of QDs\n",
    "p = 12   #number of permanent charges (PCs)\n",
    "vol = 1   #applied voltage to capacitors in inner disck (\"permanent charges\"/charged segments)\n",
    "cd = 0.394    #capacitance density in F/m^2 of inner segment capacitors\n",
    "e = 1.60217662e-19\n",
    "R = 3   #radius of QD setup\n",
    "Rp = 2   #radius of rotating disc\n",
    "r0 = R - Rp   #distance between roatating disc and centre of QD setup above\n",
    "thc = 30e-9   #approximate thickeness of inner disc\n",
    "ro = 3e3 #kg/m^3, desity of inner disc material (approxmiate)\n",
    "eps = 8.854e-12 #currently set to epsilon 0\n",
    "k = 1/(4*math.pi*eps)\n",
    "ts = 30e-9 #double quoted 15ns, time spent stopped between steps, time needed to discharge and charge quantum dot"
   ]
  },
  {
   "cell_type": "code",
   "execution_count": 14,
   "metadata": {
    "collapsed": true
   },
   "outputs": [],
   "source": [
    "def intertia( ro, thc, Rp):\n",
    "    \"\"\"Calculates inertia of inner rotating disk\"\"\"\n",
    "    I = 0.5 * ro * math.pi * thc * ( Rp ** 4 )\n",
    "    return I"
   ]
  },
  {
   "cell_type": "code",
   "execution_count": 15,
   "metadata": {
    "collapsed": true
   },
   "outputs": [],
   "source": [
    "def permanent_charge_magnitude( Rp, p , cd, vol):\n",
    "    \"\"\"Calculates magnitude of total charge stored in inner segment\"\"\"\n",
    "    segment_area = (3*math.pi*(Rp**2))/(4*p) #see notebook for deriviation\n",
    "    capacitance = cd * segment_area #capacitance of one segment\n",
    "    stored_charge = capacitance * vol #stored charge in one segment\n",
    "    return stored_charge"
   ]
  },
  {
   "cell_type": "code",
   "execution_count": 16,
   "metadata": {
    "collapsed": true
   },
   "outputs": [],
   "source": [
    "def permanent_charges( Rp, p , cd, vol):\n",
    "    PCs = {}\n",
    "    for i in range(p):\n",
    "        theta = (2*math.pi/p)*i\n",
    "        xp = Rp*math.cos(theta)\n",
    "        yp = Rp*math.sin(theta)\n",
    "        if i%2 == 0:\n",
    "            p_ch = permanent_charge_magnitude( Rp, p , cd, vol)\n",
    "        else:\n",
    "            p_ch = -permanent_charge_magnitude( Rp, p , cd, vol)\n",
    "        PCs.update({i:[xp,yp,theta, p_ch]})\n",
    "    return PCs"
   ]
  },
  {
   "cell_type": "code",
   "execution_count": 17,
   "metadata": {
    "collapsed": true
   },
   "outputs": [],
   "source": [
    "def quantum_dots( n, e):\n",
    "    QDs = {}\n",
    "    for i in range(n):\n",
    "        fi = (2*math.pi/n)*i\n",
    "        x = R*math.cos(fi)\n",
    "        y = R*math.sin(fi)\n",
    "        if i in range(1, 24, 4):\n",
    "            q_ch = 2*e\n",
    "        elif i in range(3,24,4):\n",
    "            q_ch = -2*e\n",
    "        else:\n",
    "            q_ch = 0\n",
    "        QDs.update({i:[x,y,fi,q_ch]})\n",
    "    return QDs"
   ]
  },
  {
   "cell_type": "code",
   "execution_count": 18,
   "metadata": {
    "collapsed": true
   },
   "outputs": [],
   "source": [
    "def tangential_component(n, R, r0, PCs, QDs):\n",
    "    F_c = 0; #To work out force in polar I need to know distance from the PC to each QD\n",
    "    F_t = 0\n",
    "    ri = math.sqrt(2*R*(R-r0)*(1-math.cos(QDs[i][2]))+r0**2)\n",
    "    F_c += k*PCs[0][3]*QDs[i][3]/(ri**2)\n",
    "    d = 2*R*math.sin(QDs[i][2]/2)\n",
    "    alpha = math.acos(((r0**2)+(ri**2)-(d**2))/(2*r0*ri))\n",
    "    if i > n/2:\n",
    "        alpha = -alpha\n",
    "    F_t += F_c*math.sin(alpha)\n",
    "    #print F_t\n",
    "    return F_t"
   ]
  },
  {
   "cell_type": "code",
   "execution_count": 19,
   "metadata": {
    "collapsed": true
   },
   "outputs": [],
   "source": [
    "def tangential_component(n, e, R, r0, gamma):\n",
    "    F_c = 0; #To work out force in polar I need to know distance from the PC to each QD\n",
    "    F_t = 0\n",
    "    QDs = quantum_dots(n,e)\n",
    "    for i in range(n):\n",
    "        Q = QDs[i]\n",
    "        ri = math.sqrt(2*R*(R-r0)*(1-math.cos(QDs[i][2]-gamma))+r0**2)\n",
    "        F_c += k*PCs[0][3]*Q[3]/(ri**2)\n",
    "        d = 2*R*math.sin((QDs[i][2]-gamma)/2)\n",
    "        alpha = math.acos(((r0**2)+(ri**2)-(d**2))/(2*r0*ri))\n",
    "        if i > n/2:\n",
    "            alpha = -alpha\n",
    "        F_t += F_c*math.sin(alpha)\n",
    "    return F_t"
   ]
  },
  {
   "cell_type": "code",
   "execution_count": 20,
   "metadata": {
    "collapsed": true
   },
   "outputs": [],
   "source": [
    "def torque (F_t, Rp, p):\n",
    "    torque = F_t * Rp * p\n",
    "    return torque"
   ]
  },
  {
   "cell_type": "code",
   "execution_count": 21,
   "metadata": {
    "collapsed": true
   },
   "outputs": [],
   "source": [
    "def time_per_increment( phi, Inertia, torque):\n",
    "    \"\"\"Time taken to turn angle phi\"\"\"\n",
    "    tau = 0\n",
    "    tau = math.sqrt( ( 2 * phi * Inertia ) / abs(torque) ) #from rotational equivalent of SUVAT\n",
    "    return tau"
   ]
  },
  {
   "cell_type": "code",
   "execution_count": 22,
   "metadata": {},
   "outputs": [
    {
     "name": "stdout",
     "output_type": "stream",
     "text": [
      "2.73045406764e-10\n",
      "2.90381142375e-10\n",
      "3.07554295393e-10\n",
      "3.24563697968e-10\n",
      "3.41403659705e-10\n",
      "3.58063649206e-10\n",
      "3.74528042812e-10\n",
      "3.90775943079e-10\n",
      "4.06781069191e-10\n",
      "4.22511721184e-10\n",
      "4.37930819315e-10\n",
      "4.52996019336e-10\n",
      "4.67659903639e-10\n",
      "4.81870247354e-10\n",
      "4.95570357397e-10\n",
      "5.08699481268e-10\n",
      "5.21193281125e-10\n",
      "5.32984367263e-10\n",
      "5.44002883775e-10\n",
      "5.54177137832e-10\n",
      "5.63434262816e-10\n",
      "5.71700904504e-10\n",
      "5.78903918715e-10\n",
      "5.84971068365e-10\n",
      "5.89831707725e-10\n",
      "5.93417441975e-10\n",
      "5.95662750746e-10\n",
      "5.96505565404e-10\n",
      "5.95887791217e-10\n",
      "5.93755767191e-10\n"
     ]
    }
   ],
   "source": [
    "deg15 = math.pi*15/180\n",
    "PCs = permanent_charges( Rp, p , cd, vol)\n",
    "for gamma in np.arange(0, deg15 , deg15/30):\n",
    "    print tangential_component(n, e, R, r0, gamma)"
   ]
  },
  {
   "cell_type": "code",
   "execution_count": 23,
   "metadata": {
    "collapsed": true
   },
   "outputs": [],
   "source": [
    "QDs = quantum_dots( n, e)\n",
    "for i in range(n):\n",
    "    for j in np.arange(0,30,0.5):\n",
    "        pos = QDs[i][2] + j"
   ]
  }
 ],
 "metadata": {
  "kernelspec": {
   "display_name": "Python 2",
   "language": "python",
   "name": "python2"
  },
  "language_info": {
   "codemirror_mode": {
    "name": "ipython",
    "version": 2
   },
   "file_extension": ".py",
   "mimetype": "text/x-python",
   "name": "python",
   "nbconvert_exporter": "python",
   "pygments_lexer": "ipython2",
   "version": "2.7.13"
  }
 },
 "nbformat": 4,
 "nbformat_minor": 2
}
