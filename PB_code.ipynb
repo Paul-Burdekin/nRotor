{
 "cells": [
  {
   "cell_type": "code",
   "execution_count": 1,
   "metadata": {
    "collapsed": true
   },
   "outputs": [],
   "source": [
    "import numpy as np\n",
    "import math\n",
    "import matplotlib.pyplot as plt\n",
    "\n",
    "%matplotlib inline"
   ]
  },
  {
   "cell_type": "code",
   "execution_count": 2,
   "metadata": {
    "collapsed": true
   },
   "outputs": [],
   "source": [
    "\"\"\"     ====>     initial parameters     <====     \"\"\"\n",
    "'''QDS'''\n",
    "n = 24   #number of QDs\n",
    "R = 3   #radius of QD setup\n",
    "diam = 50e-9    #diameter of QD (atm made up)\n",
    "ts = 30e-9 #double quoted 15ns, time spent stopped between steps, time needed to discharge and charge quantum dot\n",
    "'''Permanent Charges'''\n",
    "p = 12   #number of permanent charges (PCs)\n",
    "Rp = 2   #radius of rotating disc\n",
    "r = 1    #length of the cog shaft\n",
    "thc = 30e-9   #approximate thickeness of inner disc\n",
    "ro = 3e3 #kg/m^3, desity of inner disc material (approxmiate)\n",
    "vol = 1   #applied voltage to capacitors in inner disck (\"permanent charges\"/charged segments)\n",
    "cd = 0.394    #capacitance density in F/m^2 of inner segment capacitors\n",
    "'''Other constants'''\n",
    "eps = 8.854e-12 #currently set to epsilon 0\n",
    "k = 1/(4*math.pi*eps)\n",
    "e = 1.60217662e-19\n",
    "r0 = R - Rp   #distance between roatating disc and centre of QD setup above\n",
    "nu = 0.0000000000000001    #viscosity"
   ]
  },
  {
   "cell_type": "code",
   "execution_count": 3,
   "metadata": {
    "collapsed": true
   },
   "outputs": [],
   "source": [
    "def intertia( ro, thc, Rp):\n",
    "    \"\"\"Calculates inertia of inner rotating disk\"\"\"\n",
    "    I = 0.5 * ro * math.pi * thc * ( Rp ** 4 )\n",
    "    return I"
   ]
  },
  {
   "cell_type": "code",
   "execution_count": 4,
   "metadata": {
    "collapsed": true
   },
   "outputs": [],
   "source": [
    "def permanent_charge_magnitude( Rp, p , cd, vol):\n",
    "    \"\"\"Calculates magnitude of total charge stored in inner segment\"\"\"\n",
    "    segment_area = (3*math.pi*(Rp**2))/(4*p) #see notebook for deriviation\n",
    "    capacitance = cd * segment_area #capacitance of one segment\n",
    "    stored_charge = capacitance * vol #stored charge in one segment\n",
    "    return stored_charge"
   ]
  },
  {
   "cell_type": "code",
   "execution_count": 5,
   "metadata": {
    "collapsed": true
   },
   "outputs": [],
   "source": [
    "def permanent_charges( Rp, p , cd, vol):\n",
    "    PCs = {}\n",
    "    for i in range(p):\n",
    "        theta = (2*math.pi/p)*i\n",
    "        xp = Rp*math.cos(theta)\n",
    "        yp = Rp*math.sin(theta)\n",
    "        if i%2 == 0:\n",
    "            p_ch = permanent_charge_magnitude( Rp, p , cd, vol)\n",
    "        else:\n",
    "            p_ch = -permanent_charge_magnitude( Rp, p , cd, vol)\n",
    "        PCs.update({i:[xp,yp,theta, p_ch]})\n",
    "    return PCs"
   ]
  },
  {
   "cell_type": "code",
   "execution_count": 6,
   "metadata": {
    "collapsed": true
   },
   "outputs": [],
   "source": [
    "def quantum_dots( n, e):\n",
    "    QDs = {}\n",
    "    for i in range(n):\n",
    "        fi = (2*math.pi/n)*i\n",
    "        x = R*math.cos(fi)\n",
    "        y = R*math.sin(fi)\n",
    "        if i in range(1, 24, 4):\n",
    "            q_ch = 2*e\n",
    "        elif i in range(3,24,4):\n",
    "            q_ch = -2*e\n",
    "        else:\n",
    "            q_ch = 0\n",
    "        QDs.update({i:[x,y,fi,q_ch]})\n",
    "    return QDs"
   ]
  },
  {
   "cell_type": "code",
   "execution_count": 7,
   "metadata": {
    "collapsed": true
   },
   "outputs": [],
   "source": [
    "def tangential_component(n, e, R, r0, gamma):\n",
    "    F_c = 0; #To work out force in polar I need to know distance from the PC to each QD\n",
    "    F_t = 0\n",
    "    QDs = quantum_dots(n,e)\n",
    "    for i in range(n):\n",
    "        Q = QDs[i]\n",
    "        ri = math.sqrt(2*R*(R-r0)*(1-math.cos(QDs[i][2]-gamma))+r0**2)\n",
    "        F_c += k*PCs[0][3]*Q[3]/(ri**2)\n",
    "        d = 2*R*math.sin((QDs[i][2]-gamma)/2)\n",
    "        alpha = math.acos(((r0**2)+(ri**2)-(d**2))/(2*r0*ri))\n",
    "        if i > n/2:\n",
    "            alpha = -alpha\n",
    "        F_t += F_c*math.sin(alpha)\n",
    "    return F_t"
   ]
  },
  {
   "cell_type": "code",
   "execution_count": 8,
   "metadata": {
    "collapsed": true
   },
   "outputs": [],
   "source": [
    "def torque (F_t, Rp, p):\n",
    "    torque = F_t * Rp * p\n",
    "    return torque"
   ]
  },
  {
   "cell_type": "code",
   "execution_count": 9,
   "metadata": {
    "collapsed": true
   },
   "outputs": [],
   "source": [
    "def time_step(I, torque, angle_increment):\n",
    "    return math.sqrt((2*angle_increment*I)/torque)"
   ]
  },
  {
   "cell_type": "code",
   "execution_count": 10,
   "metadata": {
    "collapsed": true
   },
   "outputs": [],
   "source": [
    "def angular_velocity(angle_increment, tau):\n",
    "    return angle_increment/tau"
   ]
  },
  {
   "cell_type": "code",
   "execution_count": 11,
   "metadata": {
    "collapsed": true
   },
   "outputs": [],
   "source": [
    "def viscous_force(ang_v, nu, r):\n",
    "    return ang_v*nu/r"
   ]
  },
  {
   "cell_type": "code",
   "execution_count": 12,
   "metadata": {
    "collapsed": true
   },
   "outputs": [],
   "source": [
    "def charging_energy():\n",
    "    C_dot = 2*math.pi*eps*diam\n",
    "    E_c = (4*(e**2))/(2*C_dot)\n",
    "    return E_c"
   ]
  },
  {
   "cell_type": "code",
   "execution_count": 13,
   "metadata": {},
   "outputs": [
    {
     "data": {
      "image/png": "[encoded data removed]",
      "text/plain": [
       "<matplotlib.figure.Figure at 0x8408128>"
      ]
     },
     "metadata": {},
     "output_type": "display_data"
    }
   ],
   "source": [
    "ang_v = []\n",
    "deg15 = math.pi*15/180\n",
    "PCs = permanent_charges( Rp, p , cd, vol)\n",
    "\n",
    "fig = plt.figure(figsize=(12, 9))\n",
    "ax = fig.add_subplot(111)\n",
    "plt.ylim(0.0001, 0.00017)\n",
    "plt.xlabel('gamma', fontsize = '20')\n",
    "plt.ylabel('angular velocity', fontsize = '20')\n",
    "\n",
    "v_a = 0\n",
    "for gamma in np.arange(0, deg15 , deg15/30):\n",
    "    F_n = viscous_force(v_a, nu, r)\n",
    "    F_t = tangential_component(n, e, R, r0, gamma)\n",
    "    #print F_t - F_n\n",
    "    tau = time_step(intertia( ro, thc, Rp), torque (F_t-F_n, Rp, p), deg15/30)\n",
    "    v_a = angular_velocity(deg15/30, tau)\n",
    "    ax.scatter(gamma, v_a, color = 'r')\n",
    "    ang_v.append(v_a)\n",
    "#print ang_v\n",
    "plt.show()"
   ]
  }
 ],
 "metadata": {
  "kernelspec": {
   "display_name": "Python 2",
   "language": "python",
   "name": "python2"
  },
  "language_info": {
   "codemirror_mode": {
    "name": "ipython",
    "version": 2
   },
   "file_extension": ".py",
   "mimetype": "text/x-python",
   "name": "python",
   "nbconvert_exporter": "python",
   "pygments_lexer": "ipython2",
   "version": "2.7.13"
  }
 },
 "nbformat": 4,
 "nbformat_minor": 2
}
