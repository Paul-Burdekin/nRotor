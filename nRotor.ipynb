{
 "cells": [
  {
   "cell_type": "code",
   "execution_count": 29,
   "metadata": {
    "collapsed": true
   },
   "outputs": [],
   "source": [
    "import numpy as np\n",
    "import math\n",
    "import matplotlib.pyplot as plt\n",
    "%matplotlib inline"
   ]
  },
  {
   "cell_type": "code",
   "execution_count": 30,
   "metadata": {
    "collapsed": true
   },
   "outputs": [],
   "source": [
    "#no of QDs\n",
    "n = 24\n",
    "#no of permanent charges\n",
    "N = 12\n",
    "#radius of QD setup R\n",
    "R = 3\n",
    "#radius of the inner disc\n",
    "Rp = 2\n",
    "r0 = R - Rp\n",
    "#Coulomb constant k = 1/4pi* eps0\n",
    "k = 0.8988e10\n",
    "#Charge of QD, PC\n",
    "e = 1.60217662e-19\n",
    "p_ch = 2*e"
   ]
  },
  {
   "cell_type": "code",
   "execution_count": 31,
   "metadata": {
    "collapsed": true,
    "scrolled": true
   },
   "outputs": [],
   "source": [
    "QDs = {}\n",
    "for i in range(n):\n",
    "    fi = (2*math.pi/n)*i\n",
    "    x = R*math.cos(fi)\n",
    "    y = R*math.sin(fi)\n",
    "    if i%2 == 0:\n",
    "        q_ch = 0\n",
    "    else:\n",
    "        q_ch = -2*e\n",
    "    QDs.update({i:[x,y,fi,q_ch]})   #Gives [x-coord, y-coord, charge]"
   ]
  },
  {
   "cell_type": "code",
   "execution_count": 32,
   "metadata": {},
   "outputs": [],
   "source": [
    "PCs = {}\n",
    "for i in range(N):\n",
    "    theta = (2*math.pi/N)*i\n",
    "    xp = Rp*math.cos(theta)\n",
    "    yp = Rp*math.sin(theta)\n",
    "    PCs.update({i:[xp,yp,theta, p_ch]})   #Gives [x-coord, y-coord, charge]"
   ]
  },
  {
   "cell_type": "code",
   "execution_count": 33,
   "metadata": {
    "scrolled": false
   },
   "outputs": [
    {
     "data": {
      "image/png": "[encoded data removed]",
      "text/plain": [
       "<matplotlib.figure.Figure at 0x8b374e0>"
      ]
     },
     "metadata": {},
     "output_type": "display_data"
    }
   ],
   "source": [
    "fig = plt.figure()\n",
    "ax = fig.add_subplot(111)\n",
    "for x in QDs.keys():\n",
    "    ax.scatter(QDs[x][0], QDs[x][1], color ='b')\n",
    "for y in PCs.keys():\n",
    "    ax.scatter(PCs[y][0], PCs[y][1], color ='r')\n",
    "plt.show()"
   ]
  },
  {
   "cell_type": "code",
   "execution_count": 39,
   "metadata": {},
   "outputs": [
    {
     "name": "stdout",
     "output_type": "stream",
     "text": [
      "-1.72721042844e-26\n"
     ]
    }
   ],
   "source": [
    "F_c = 0; #To work out force in polar I need to know distance from the PC to each QD\n",
    "F_t = 0\n",
    "for i in range(n):\n",
    "    Q = QDs[i]\n",
    "    ri = math.sqrt(2*R*(R-r0)*(1-math.cos(QDs[i][2]))+r0**2)\n",
    "    F_c += k*PCs[0][3]*Q[3]/(ri**2)\n",
    "    d = 2*R*math.sin(QDs[i][2]/2)\n",
    "    alpha = math.acos(((r0**2)+(ri**2)-(d**2))/(2*r0*ri))\n",
    "    F_t += F_c*math.sin(alpha)\n",
    "print F_t"
   ]
  }
 ],
 "metadata": {
  "kernelspec": {
   "display_name": "Python 2",
   "language": "python",
   "name": "python2"
  },
  "language_info": {
   "codemirror_mode": {
    "name": "ipython",
    "version": 2
   },
   "file_extension": ".py",
   "mimetype": "text/x-python",
   "name": "python",
   "nbconvert_exporter": "python",
   "pygments_lexer": "ipython2",
   "version": "2.7.13"
  }
 },
 "nbformat": 4,
 "nbformat_minor": 2
}
